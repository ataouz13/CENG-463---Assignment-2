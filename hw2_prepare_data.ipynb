{
 "cells": [
  {
   "cell_type": "code",
   "execution_count": 1,
   "id": "44f917c9-a92b-4b29-b1e9-e9f702e5c3fc",
   "metadata": {},
   "outputs": [],
   "source": [
    "import pandas as pd\n",
    "import os\n",
    "from sklearn.model_selection import train_test_split"
   ]
  },
  {
   "cell_type": "code",
   "execution_count": 3,
   "id": "966fe3d6-d115-489a-871e-da3fd3f40c99",
   "metadata": {},
   "outputs": [],
   "source": [
    "# Prepare train/test data\n",
    "task = 1\n",
    "\n",
    "if task == 1:\n",
    "    folder_path = \"train/orientation\"\n",
    "    all_data = []\n",
    "    \n",
    "    # Iterate over all .tsv files in the folder\n",
    "    for file_name in os.listdir(folder_path):\n",
    "        if file_name.endswith('.tsv'):\n",
    "            file_path = os.path.join(folder_path, file_name)\n",
    "            # Load the current TSV file\n",
    "            df = pd.read_csv(file_path, sep='\\t')\n",
    "            all_data.append(df)\n",
    "    \n",
    "    # Combine all loaded data into a single DataFrame\n",
    "    combined_data = pd.concat(all_data, ignore_index=True)\n",
    "    \n",
    "    # Ensure no missing values in crucial columns\n",
    "    combined_data = combined_data.dropna(subset=['label'])\n",
    "    \n",
    "    X = combined_data[['id', 'speaker', 'sex','text','text_en']]\n",
    "    y = combined_data['label']\n",
    "\n",
    "elif task == 2:\n",
    "    data_path = \"train/power/power-es-train.tsv\"\n",
    "    \n",
    "    df = pd.read_csv(data_path, sep='\\t')\n",
    "    \n",
    "    # Ensure no missing values in crucial columns\n",
    "    df = df.dropna(subset=['label'])\n",
    "    df = df.dropna(subset=['text_en'])\n",
    "    df = df.reset_index(drop=True)\n",
    "    \n",
    "    X = df[['id', 'speaker', 'sex','text','text_en']]\n",
    "    y = df['label']\n",
    "\n",
    "# Perform stratified split\n",
    "X_train, X_test, y_train, y_test = train_test_split(\n",
    "    X, y,\n",
    "    test_size=0.1,  # 10% for testing\n",
    "    random_state=42,  # For reproducibility\n",
    "    stratify=y  # Ensure the proportion of classes is maintained\n",
    ")\n",
    "\n",
    "X_train['label'] = y_train\n",
    "X_test['label'] = y_test\n",
    "X_train.to_csv(\"train_data_orientation.tsv\", sep='\\t', index=False)\n",
    "X_test.to_csv(\"test_data_orientation.tsv\", sep='\\t', index=False)"
   ]
  }
 ],
 "metadata": {
  "kernelspec": {
   "display_name": "Python 3 (ipykernel)",
   "language": "python",
   "name": "python3"
  },
  "language_info": {
   "codemirror_mode": {
    "name": "ipython",
    "version": 3
   },
   "file_extension": ".py",
   "mimetype": "text/x-python",
   "name": "python",
   "nbconvert_exporter": "python",
   "pygments_lexer": "ipython3",
   "version": "3.10.13"
  }
 },
 "nbformat": 4,
 "nbformat_minor": 5
}
